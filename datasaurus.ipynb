{
 "cells": [
  {
   "cell_type": "markdown",
   "id": "a04c9f4b",
   "metadata": {},
   "source": [
    "# Tag 1 – Datasaurus Dozen Übung\n",
    "Dieses Notebook zeigt, wie man eine Datei einliest, das Format konvertiert und die konvertierte Datei speichert."
   ]
  },
  {
   "cell_type": "markdown",
   "id": "805515cf",
   "metadata": {},
   "source": [
    "## 1. Importiere benötigte Bibliotheken\n",
    "Wir importieren die wichtigsten Bibliotheken für die Dateiverarbeitung und Visualisierung."
   ]
  },
  {
   "cell_type": "code",
   "execution_count": null,
   "id": "f180415f",
   "metadata": {},
   "outputs": [],
   "source": [
    "import pandas as pd\n",
    "import matplotlib.pyplot as plt"
   ]
  },
  {
   "cell_type": "markdown",
   "id": "ba00f1c0",
   "metadata": {},
   "source": [
    "## 2. Lese eine Datei ein\n",
    "Wir lesen eine CSV-Datei ein und zeigen die ersten Zeilen an."
   ]
  },
  {
   "cell_type": "code",
   "execution_count": null,
   "id": "3f66585f",
   "metadata": {},
   "outputs": [],
   "source": [
    "# CSV laden (z.B. datasaurus.csv aus Datasaurus Dozen)\n",
    "df = pd.read_csv(\"./separated_datasets/bullseye.csv\")\n",
    "df.head()"
   ]
  },
  {
   "cell_type": "markdown",
   "id": "45a8b56b",
   "metadata": {},
   "source": [
    "## 3. Visualisieren\n"
   ]
  },
  {
   "cell_type": "markdown",
   "id": "dd9d2624",
   "metadata": {},
   "source": [
    "### Visualisierung der Daten\n",
    "Wir erstellen einen Scatterplot, um die Daten grafisch darzustellen."
   ]
  },
  {
   "cell_type": "code",
   "execution_count": null,
   "id": "27d0c1d1",
   "metadata": {},
   "outputs": [],
   "source": [
    "plt.figure(figsize=(6,6))\n",
    "plt.scatter(df[\"x\"], df[\"y\"], alpha=0.7)\n",
    "plt.title(\"Datasaurus Scatterplot\")\n",
    "plt.xlabel(\"x\")\n",
    "plt.ylabel(\"y\")\n",
    "plt.show()"
   ]
  },
  {
   "cell_type": "code",
   "execution_count": null,
   "id": "86fd2e9f",
   "metadata": {},
   "outputs": [],
   "source": [
    "# Konvertiere CSV zu Excel\n",
    "df.to_excel(\"bullseye_converted.xlsx\", index=False)"
   ]
  },
  {
   "cell_type": "markdown",
   "id": "dea83962",
   "metadata": {},
   "source": [
    "## 4. Speichere die konvertierte Datei\n",
    "Wir überprüfen, ob die Excel-Datei korrekt gespeichert wurde und zeigen die ersten Zeilen an."
   ]
  },
  {
   "cell_type": "code",
   "execution_count": null,
   "id": "f97d1499",
   "metadata": {},
   "outputs": [],
   "source": [
    "# Überprüfe die gespeicherte Excel-Datei\n",
    "excel_df = pd.read_excel(\"bullseye_converted.xlsx\")\n",
    "excel_df.head()"
   ]
  }
 ],
 "metadata": {
  "kernelspec": {
   "display_name": "base",
   "language": "python",
   "name": "python3"
  },
  "language_info": {
   "name": "python",
   "version": "3.10.10"
  }
 },
 "nbformat": 4,
 "nbformat_minor": 5
}
