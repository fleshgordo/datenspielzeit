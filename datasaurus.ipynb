{
  "cells": [
    {
      "cell_type": "markdown",
      "metadata": {
        "id": "view-in-github",
        "colab_type": "text"
      },
      "source": [
        "<a href=\"https://colab.research.google.com/github/fleshgordo/datenspielzeit/blob/main/datasaurus.ipynb\" target=\"_parent\"><img src=\"https://colab.research.google.com/assets/colab-badge.svg\" alt=\"Open In Colab\"/></a>"
      ]
    },
    {
      "cell_type": "markdown",
      "id": "a04c9f4b",
      "metadata": {
        "id": "a04c9f4b"
      },
      "source": [
        "# Tag 1 – Daten Explorationen\n",
        "Dieses Notebook zeigt, wie man eine Datei einliest, das Format konvertiert und die konvertierte Datei speichert. Wir arbeiten mit der python Bibliothek pandas. Pandas ist besonders interessant für die Datenexploration, da es leistungsstarke und flexible Datenstrukturen wie DataFrames bietet, die das Laden, Manipulieren und Analysieren von Daten erheblich vereinfachen. Es ist ein unverzichtbares Werkzeug für Datenwissenschaftler und Analysten.\n",
        "\n",
        "Schau dir dieses kurze Video an, um einen Quick-Start Einblick zu bekommen: [Video](https://www.youtube.com/watch?v=EXIgjIBu4EU)"
      ]
    },
    {
      "cell_type": "markdown",
      "id": "805515cf",
      "metadata": {
        "id": "805515cf"
      },
      "source": [
        "## 1. Importiere benötigte Bibliotheken\n",
        "Wir importieren die wichtigsten Bibliotheken für die Dateiverarbeitung und Visualisierung."
      ]
    },
    {
      "cell_type": "code",
      "execution_count": null,
      "id": "f180415f",
      "metadata": {
        "id": "f180415f"
      },
      "outputs": [],
      "source": [
        "import pandas as pd\n",
        "import matplotlib.pyplot as plt"
      ]
    },
    {
      "cell_type": "markdown",
      "id": "ba00f1c0",
      "metadata": {
        "id": "ba00f1c0"
      },
      "source": [
        "## 2. Lese eine Datei ein\n",
        "Wir lesen eine CSV-Datei ein und zeigen die ersten Zeilen an."
      ]
    },
    {
      "cell_type": "code",
      "execution_count": null,
      "id": "3f66585f",
      "metadata": {
        "id": "3f66585f"
      },
      "outputs": [],
      "source": [
        "# CSV laden\n",
        "df = pd.read_csv(\"./group1_bu.csv\")\n",
        "#df = pd.read_csv(\"./group2_st.csv\")\n",
        "#df = pd.read_csv(\"./group3_di.csv\")\n",
        "#df = pd.read_csv(\"./group4_ci.csv\")\n",
        "#df = pd.read_csv(\"./group5_x.csv\")\n",
        "#df = pd.read_csv(\"./group6_v.csv\")\n",
        "df.head()"
      ]
    },
    {
      "cell_type": "markdown",
      "source": [
        "Das CSV File muss allerdings innerhalb des Folders verfügbar sein. Falls vorherige Zelle einen Fehler auswirft, zunächst noch den Datensatz herunterladen mit folgendem Befehl:"
      ],
      "metadata": {
        "id": "-2W-1LC8H5XF"
      },
      "id": "-2W-1LC8H5XF"
    },
    {
      "cell_type": "code",
      "source": [
        "!wget https://raw.githubusercontent.com/fleshgordo/datenspielzeit/refs/heads/main/datasets/group1_bu.csv -O group1_bu.csv\n",
        "!wget https://raw.githubusercontent.com/fleshgordo/datenspielzeit/refs/heads/main/datasets/group2_st.csv -O group2_st.csv\n",
        "!wget https://raw.githubusercontent.com/fleshgordo/datenspielzeit/refs/heads/main/datasets/group3_di.csv -O group3_di.csv\n",
        "!wget https://raw.githubusercontent.com/fleshgordo/datenspielzeit/refs/heads/main/datasets/group4_ci.csv -O group4_ci.csv\n",
        "!wget https://raw.githubusercontent.com/fleshgordo/datenspielzeit/refs/heads/main/datasets/group5_x.csv -O group5_x.csv\n",
        "!wget https://raw.githubusercontent.com/fleshgordo/datenspielzeit/refs/heads/main/datasets/group6_v.csv -O group6_v.csv"
      ],
      "metadata": {
        "id": "M20j8FDBIEq8"
      },
      "id": "M20j8FDBIEq8",
      "execution_count": null,
      "outputs": []
    },
    {
      "cell_type": "markdown",
      "source": [
        "Die Funktion describe() dient dazu, eine statistische Zusammenfassung der numerischen Spalten eines DataFrames zu erstellen. Die Zusammenfassung enthält wichtige statistische Kennziffern wie Mittelwert, Standardabweichung, Minimum, Maximum und verschiedene Quantile der Daten."
      ],
      "metadata": {
        "id": "37COHCETpDc9"
      },
      "id": "37COHCETpDc9"
    },
    {
      "cell_type": "code",
      "source": [
        "df.describe()"
      ],
      "metadata": {
        "id": "jDdN7EGuLS0o"
      },
      "id": "jDdN7EGuLS0o",
      "execution_count": null,
      "outputs": []
    },
    {
      "cell_type": "markdown",
      "id": "45a8b56b",
      "metadata": {
        "id": "45a8b56b"
      },
      "source": [
        "## 3. Visualisieren\n"
      ]
    },
    {
      "cell_type": "markdown",
      "id": "dd9d2624",
      "metadata": {
        "id": "dd9d2624"
      },
      "source": [
        "### Visualisierung der Daten\n",
        "Wir erstellen einen Scatterplot, um die Daten grafisch darzustellen."
      ]
    },
    {
      "cell_type": "code",
      "execution_count": null,
      "id": "27d0c1d1",
      "metadata": {
        "id": "27d0c1d1"
      },
      "outputs": [],
      "source": [
        "plt.figure(figsize=(6,6))\n",
        "plt.scatter(df[\"x\"], df[\"y\"], alpha=0.7)\n",
        "plt.title(\"Scatterplot\")\n",
        "plt.xlabel(\"x\")\n",
        "plt.ylabel(\"y\")\n",
        "plt.show()"
      ]
    },
    {
      "cell_type": "code",
      "execution_count": null,
      "id": "86fd2e9f",
      "metadata": {
        "id": "86fd2e9f"
      },
      "outputs": [],
      "source": [
        "# Konvertiere CSV zu Excel\n",
        "df.to_excel(\"export.xlsx\", index=False)"
      ]
    },
    {
      "cell_type": "markdown",
      "id": "dea83962",
      "metadata": {
        "id": "dea83962"
      },
      "source": [
        "## 4. Speichere die konvertierte Datei\n",
        "Wir überprüfen, ob die Excel-Datei korrekt gespeichert wurde und zeigen die ersten Zeilen an."
      ]
    },
    {
      "cell_type": "code",
      "execution_count": null,
      "id": "f97d1499",
      "metadata": {
        "id": "f97d1499"
      },
      "outputs": [],
      "source": [
        "# Überprüfe die gespeicherte Excel-Datei\n",
        "excel_df = pd.read_excel(\"export.xlsx\")\n",
        "excel_df.head()"
      ]
    },
    {
      "cell_type": "markdown",
      "source": [
        "## 5. Lade alle 6 CSV-Dateien und visualisiere sie gemeinsam\n",
        "Wir laden sechs verschiedene CSV-Dateien in separate DataFrames und visualisieren sie zusammen in einem Plot."
      ],
      "metadata": {
        "id": "TwZ-l4mmYuE8"
      },
      "id": "TwZ-l4mmYuE8"
    },
    {
      "cell_type": "code",
      "source": [
        "# Dateinamen der sechs CSVs\n",
        "csv_files = [\n",
        "    \"group1_bu.csv\",\n",
        "    \"group2_st.csv\",\n",
        "    \"group3_di.csv\",\n",
        "    \"group4_ci.csv\",\n",
        "    \"group5_x.csv\",\n",
        "    \"group6_v.csv\"\n",
        "]\n",
        "\n",
        "# DataFrames laden\n",
        "dfs = [pd.read_csv(fname) for fname in csv_files]\n",
        "\n",
        "# Visualisierung: alle Scatterplots gemeinsam\n",
        "plt.figure(figsize=(10, 10))\n",
        "colors = [\"red\", \"blue\", \"green\", \"orange\", \"purple\", \"brown\"]\n",
        "labels = [f.split(\".\")[0] for f in csv_files]\n",
        "for i, df in enumerate(dfs):\n",
        "    plt.scatter(df[\"x\"], df[\"y\"], alpha=0.6, label=labels[i], color=colors[i])\n",
        "plt.title(f\"Vergleich der {len(csv_files)} Formen\")\n",
        "plt.xlabel(\"x\")\n",
        "plt.ylabel(\"y\")\n",
        "plt.legend()\n",
        "plt.show()"
      ],
      "metadata": {
        "id": "UnpbKIPzYgAV"
      },
      "id": "UnpbKIPzYgAV",
      "execution_count": null,
      "outputs": []
    },
    {
      "cell_type": "markdown",
      "source": [
        "### Mittelwerte und Durchschnittswerte für jede CSV\n",
        "Wir berechnen und zeigen die Mittelwerte für x und y für jeden der sechs DataFrames."
      ],
      "metadata": {
        "id": "kRKixv9jiHxI"
      },
      "id": "kRKixv9jiHxI"
    },
    {
      "cell_type": "code",
      "source": [
        "for i, df in enumerate(dfs):\n",
        "    mean_x = df[\"x\"].mean()\n",
        "    mean_y = df[\"y\"].mean()\n",
        "    print(f\"{labels[i]}: Mittelwert x = {mean_x:.2f}, Mittelwert y = {mean_y:.2f}\")"
      ],
      "metadata": {
        "id": "oEJqxRw7ZOD9"
      },
      "id": "oEJqxRw7ZOD9",
      "execution_count": null,
      "outputs": []
    },
    {
      "cell_type": "markdown",
      "source": [
        "### Statistische Kennzahlen und Lineare Regression\n",
        "Wir berechnen Standardabweichung, Mittelwert und führen eine lineare Regression für jeden Datensatz durch."
      ],
      "metadata": {
        "id": "6Kij1Ve9iKrn"
      },
      "id": "6Kij1Ve9iKrn"
    },
    {
      "cell_type": "code",
      "source": [
        "from scipy.stats import linregress\n",
        "\n",
        "for i, df in enumerate(dfs):\n",
        "    mean_x = df[\"x\"].mean()\n",
        "    mean_y = df[\"y\"].mean()\n",
        "    std_x = df[\"x\"].std()\n",
        "    std_y = df[\"y\"].std()\n",
        "    regression = linregress(df[\"x\"], df[\"y\"])\n",
        "    print(f\"{labels[i]}:\")\n",
        "    print(f\"  Mittelwert x = {mean_x:.2f}, y = {mean_y:.2f}\")\n",
        "    print(f\"  Standardabweichung x = {std_x:.2f}, y = {std_y:.2f}\")\n",
        "    print(f\"  Lineare Regression: Steigung = {regression.slope:.4f}, Achsenabschnitt = {regression.intercept:.4f}, r = {regression.rvalue:.4f}\")\n",
        "    print(\"-\")"
      ],
      "metadata": {
        "id": "ph7w9uzKZOYY"
      },
      "id": "ph7w9uzKZOYY",
      "execution_count": null,
      "outputs": []
    },
    {
      "cell_type": "markdown",
      "source": [
        "### Visualisierung der linearen Regression\n",
        "Wir plotten für jeden Datensatz die Datenpunkte und die zugehörige Regressionsgerade."
      ],
      "metadata": {
        "id": "8Gh4arXBiMQZ"
      },
      "id": "8Gh4arXBiMQZ"
    },
    {
      "cell_type": "code",
      "source": [
        "fig, axes = plt.subplots(2, 3, figsize=(18, 10))\n",
        "for i, df in enumerate(dfs):\n",
        "    ax = axes[i//3, i%3]\n",
        "    ax.scatter(df[\"x\"], df[\"y\"], alpha=0.6, label=\"Datenpunkte\", color=colors[i])\n",
        "    regression = linregress(df[\"x\"], df[\"y\"])\n",
        "    x_vals = df[\"x\"]\n",
        "    y_pred = regression.slope * x_vals + regression.intercept\n",
        "    ax.plot(x_vals, y_pred, color=\"black\", label=\"Regression\")\n",
        "    ax.set_title(labels[i])\n",
        "    ax.set_xlabel(\"x\")\n",
        "    ax.set_ylabel(\"y\")\n",
        "    ax.legend()\n",
        "plt.tight_layout()\n",
        "plt.show()"
      ],
      "metadata": {
        "id": "8snqqBzUiNHm"
      },
      "id": "8snqqBzUiNHm",
      "execution_count": null,
      "outputs": []
    }
  ],
  "metadata": {
    "kernelspec": {
      "display_name": "base",
      "language": "python",
      "name": "python3"
    },
    "language_info": {
      "name": "python",
      "version": "3.10.10"
    },
    "colab": {
      "provenance": [],
      "include_colab_link": true
    }
  },
  "nbformat": 4,
  "nbformat_minor": 5
}